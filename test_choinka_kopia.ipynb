{
  "nbformat": 4,
  "nbformat_minor": 0,
  "metadata": {
    "colab": {
      "provenance": [],
      "authorship_tag": "ABX9TyPxIKUsyb2lCwDcT0Gfz4It",
      "include_colab_link": true
    },
    "kernelspec": {
      "name": "python3",
      "display_name": "Python 3"
    },
    "language_info": {
      "name": "python"
    }
  },
  "cells": [
    {
      "cell_type": "markdown",
      "metadata": {
        "id": "view-in-github",
        "colab_type": "text"
      },
      "source": [
        "<a href=\"https://colab.research.google.com/github/PawelZarebski7/uczenie_maszynowe/blob/main/test_choinka_kopia.ipynb\" target=\"_parent\"><img src=\"https://colab.research.google.com/assets/colab-badge.svg\" alt=\"Open In Colab\"/></a>"
      ]
    },
    {
      "cell_type": "code",
      "execution_count": null,
      "metadata": {
        "colab": {
          "base_uri": "https://localhost:8080/"
        },
        "id": "-0JcRKfTE1-4",
        "outputId": "536b7de5-9418-4803-92c1-aa81c8d841de"
      },
      "outputs": [
        {
          "output_type": "stream",
          "name": "stdout",
          "text": [
            "Hello World\n"
          ]
        }
      ],
      "source": [
        "print(\"Hello World\")"
      ]
    },
    {
      "cell_type": "code",
      "source": [
        "print(4*4+4)"
      ],
      "metadata": {
        "colab": {
          "base_uri": "https://localhost:8080/"
        },
        "id": "BNzeXrtjE9qC",
        "outputId": "c1f6b344-8503-435c-b998-6d3ae67a1dca"
      },
      "execution_count": null,
      "outputs": [
        {
          "output_type": "stream",
          "name": "stdout",
          "text": [
            "20\n"
          ]
        }
      ]
    },
    {
      "cell_type": "markdown",
      "source": [
        "### <a href=\"https://google.com\" target=\"_blank\">Link do Google</a>"
      ],
      "metadata": {
        "id": "oS5_2J-rFCkD"
      }
    },
    {
      "cell_type": "code",
      "source": [
        "# prompt: stwórz dla mnie kod generujący choinkę z gwiazdek\n",
        "\n",
        "height = 20  # Adjust the height of the tree\n",
        "\n",
        "for i in range(height):\n",
        "  spaces = \" \" * (height - i - 1)\n",
        "  stars = \"*\" * (2 * i + 1)\n",
        "  print(spaces + stars)\n",
        "\n",
        "print(\" \" * (height - 1) + \"*\")  # Trunk of the tree"
      ],
      "metadata": {
        "colab": {
          "base_uri": "https://localhost:8080/"
        },
        "id": "_EP_1829FSt9",
        "outputId": "6033a9f7-26d1-4180-c905-5ac488687a21"
      },
      "execution_count": null,
      "outputs": [
        {
          "output_type": "stream",
          "name": "stdout",
          "text": [
            "                   *\n",
            "                  ***\n",
            "                 *****\n",
            "                *******\n",
            "               *********\n",
            "              ***********\n",
            "             *************\n",
            "            ***************\n",
            "           *****************\n",
            "          *******************\n",
            "         *********************\n",
            "        ***********************\n",
            "       *************************\n",
            "      ***************************\n",
            "     *****************************\n",
            "    *******************************\n",
            "   *********************************\n",
            "  ***********************************\n",
            " *************************************\n",
            "***************************************\n",
            "                   *\n"
          ]
        }
      ]
    }
  ]
}